{
 "cells": [
  {
   "cell_type": "markdown",
   "metadata": {},
   "source": [
    "## Двухфакторный дисперсионный анализ. Факторный анализ. Логистическая регрессия"
   ]
  },
  {
   "cell_type": "markdown",
   "metadata": {},
   "source": [
    "#### Задача 1\n",
    "\n",
    "Объясняемая переменная y зависит от двух категориальных факторов A и B, причём фактор A имеет 3 уровня, а фактор B - 4 уровня. Результаты наблюдений приведены в таблице:\n",
    "\n",
    "y = [[2.68, 3.29, 2.88, 4.45],\n",
    "     [4.12, 4.96, 5.09, 5.22],\n",
    "     [5.52, 4.50, 5.42, 5.29]]\n",
    "     \n",
    "С помощью двухфакторного дисперсионного анализа проверьте влияние каждого из факторов на переменную y."
   ]
  },
  {
   "cell_type": "code",
   "execution_count": 1,
   "metadata": {},
   "outputs": [],
   "source": [
    "import numpy as np\n",
    "import pandas as pd\n",
    "from scipy import stats"
   ]
  },
  {
   "cell_type": "markdown",
   "metadata": {},
   "source": [
    "Для вычисления значений статистик нам вновь понадобятся оценки дисперсий. Они вычисляются похожим образом. Суммы квадратов отклонений:\n",
    "$$SS_a = k \\cdot \\displaystyle\\sum_{i=1}^m \\left( \\overline{Y_{i \\ast}} - \\overline{Y} \\right)^2, \\:\\:\n",
    "SS_b = m \\cdot \\displaystyle\\sum_{j=1}^k \\left( \\overline{Y_{\\ast j}} - \\overline{Y} \\right)^2, \\:\\:\n",
    "SS_w = \\displaystyle\\sum_{i=1}^m \\displaystyle\\sum_{j=1}^k \\left( y_{ij} - \\overline{Y_{i \\ast}} - \\overline{Y_{\\ast j}} + \\overline{Y} \\right)^2$$"
   ]
  },
  {
   "cell_type": "code",
   "execution_count": 32,
   "metadata": {},
   "outputs": [],
   "source": [
    "y = np.array([[2.68, 3.29, 2.88, 4.45],\n",
    "              [4.12, 4.96, 5.09, 5.22],\n",
    "              [5.52, 4.50, 5.42, 5.29]])"
   ]
  },
  {
   "cell_type": "code",
   "execution_count": 33,
   "metadata": {},
   "outputs": [
    {
     "name": "stdout",
     "output_type": "stream",
     "text": [
      "Среднее значение: 4.451666666666666\n"
     ]
    }
   ],
   "source": [
    "Y_mean = y.mean()\n",
    "print(f'Среднее значение: {Y_mean}')"
   ]
  },
  {
   "cell_type": "code",
   "execution_count": 34,
   "metadata": {},
   "outputs": [
    {
     "name": "stdout",
     "output_type": "stream",
     "text": [
      "Среднее значение фактора А: 3.325, 4.8475, 5.1825\n"
     ]
    }
   ],
   "source": [
    "ya1_mean = y[0].mean()\n",
    "ya2_mean = y[1].mean()\n",
    "ya3_mean = y[2].mean()\n",
    "\n",
    "print(f'Среднее значение фактора А: {ya1_mean}, {ya2_mean}, {ya3_mean}')"
   ]
  },
  {
   "cell_type": "code",
   "execution_count": 35,
   "metadata": {},
   "outputs": [
    {
     "name": "stdout",
     "output_type": "stream",
     "text": [
      "Среднее значение фактора B: 4.1066666666666665, 4.25, 4.463333333333334, 4.986666666666667\n"
     ]
    }
   ],
   "source": [
    "yb1_mean = y[:, [0]].mean()\n",
    "yb2_mean = y[:, [1]].mean()\n",
    "yb3_mean = y[:, [2]].mean()\n",
    "yb4_mean = y[:, [3]].mean()\n",
    "\n",
    "print(f'Среднее значение фактора B: {yb1_mean}, {yb2_mean}, {yb3_mean}, {yb4_mean}')"
   ]
  },
  {
   "cell_type": "code",
   "execution_count": 37,
   "metadata": {},
   "outputs": [
    {
     "name": "stdout",
     "output_type": "stream",
     "text": [
      "m = 3, k = 4, n = 12\n"
     ]
    }
   ],
   "source": [
    "m, k = y.shape\n",
    "n = y.size\n",
    "print(f'm = {m}, k = {k}, n = {n}')"
   ]
  },
  {
   "cell_type": "code",
   "execution_count": 38,
   "metadata": {},
   "outputs": [
    {
     "name": "stdout",
     "output_type": "stream",
     "text": [
      "SS_a = 7.8407166666666654\n"
     ]
    }
   ],
   "source": [
    "SS_a = k * ((ya1_mean - Y_mean)**2 + (ya2_mean - Y_mean)**2 + (ya3_mean - Y_mean)**2)\n",
    "\n",
    "print(f'SS_a = {SS_a}')"
   ]
  },
  {
   "cell_type": "code",
   "execution_count": 39,
   "metadata": {},
   "outputs": [
    {
     "name": "stdout",
     "output_type": "stream",
     "text": [
      "SS_b = 1.338166666666669\n"
     ]
    }
   ],
   "source": [
    "SS_b = m * ((yb1_mean - Y_mean)**2 + (yb2_mean - Y_mean)**2 + (yb3_mean - Y_mean)**2 + (yb4_mean - Y_mean)**2)\n",
    "\n",
    "print(f'SS_b = {SS_b}')"
   ]
  },
  {
   "cell_type": "code",
   "execution_count": 40,
   "metadata": {},
   "outputs": [
    {
     "name": "stdout",
     "output_type": "stream",
     "text": [
      "SS_w = [1.92988333]\n"
     ]
    }
   ],
   "source": [
    "SS_w = ((y[0, [0]] - ya1_mean - yb1_mean + Y_mean)**2) + ((y[1, [0]] - ya2_mean - yb1_mean + Y_mean)**2) + ((y[2, [0]] - ya3_mean - yb1_mean + Y_mean)**2) + ((y[0, [1]] - ya1_mean - yb2_mean + Y_mean)**2) + ((y[1, [1]] - ya2_mean - yb2_mean + Y_mean)**2) + ((y[2, [1]] - ya3_mean - yb2_mean + Y_mean)**2) + ((y[0, [2]] - ya1_mean - yb3_mean + Y_mean)**2) + ((y[1, [2]] - ya2_mean - yb3_mean + Y_mean)**2) + ((y[2, [2]] - ya3_mean - yb3_mean + Y_mean)**2) + ((y[0, [3]] - ya1_mean - yb4_mean + Y_mean)**2) + ((y[1, [3]] - ya2_mean - yb4_mean + Y_mean)**2) + ((y[2, [3]] - ya3_mean - yb4_mean + Y_mean)**2)\n",
    "\n",
    "print(f'SS_w = {SS_w}')"
   ]
  },
  {
   "cell_type": "markdown",
   "metadata": {},
   "source": [
    "Оценки дисперсий:\n",
    "$$\\sigma_a^2 = \\dfrac{SS_a}{m - 1}, \\:\\: \\sigma_b^2 = \\dfrac{SS_b}{k - 1}, \\:\\:\n",
    "\\sigma_w^2 = \\dfrac{SS_w}{(k - 1) (m - 1)}$$"
   ]
  },
  {
   "cell_type": "code",
   "execution_count": 41,
   "metadata": {},
   "outputs": [
    {
     "name": "stdout",
     "output_type": "stream",
     "text": [
      "sigma2_a = 3.9203583333333327\n"
     ]
    }
   ],
   "source": [
    "sigma2_a = SS_a / (m - 1)\n",
    "\n",
    "print(f'sigma2_a = {sigma2_a}')"
   ]
  },
  {
   "cell_type": "code",
   "execution_count": 42,
   "metadata": {},
   "outputs": [
    {
     "name": "stdout",
     "output_type": "stream",
     "text": [
      "sigma2_b = 0.4460555555555563\n"
     ]
    }
   ],
   "source": [
    "sigma2_b = SS_b / (k - 1)\n",
    "\n",
    "print(f'sigma2_b = {sigma2_b}')"
   ]
  },
  {
   "cell_type": "code",
   "execution_count": 43,
   "metadata": {},
   "outputs": [
    {
     "name": "stdout",
     "output_type": "stream",
     "text": [
      "sigma2_w = [0.32164722]\n"
     ]
    }
   ],
   "source": [
    "sigma2_w = SS_w / ((k - 1) * (m - 1))\n",
    "\n",
    "print(f'sigma2_w = {sigma2_w}')"
   ]
  },
  {
   "cell_type": "markdown",
   "metadata": {},
   "source": [
    "Напомним, что в двухфакторном дисперсионном анализе мы проверяем две гипотезы (отдельная гипотеза о влиянии каждого из факторов). Итак, статистика для гипотезы о влиянии фактора $a$:\n",
    "$$F_a = \\dfrac{\\sigma_a^2}{\\sigma_w^2}$$\n",
    "\n",
    "В предположении верности гипотезы $H_{0a}$ эта статистика имеет распределение Фишера с параметрами $k_{1a} = m - 1$, $k_{2a} = n - m$, где $n = m \\cdot k$ — общее число элементов в выборке. Далее, как обычно, строится критическая область (правосторонняя, поскольку распределение Фишера имеет один хвост), и проводится тест.\n",
    "\n",
    "Аналогично, для гипотезы о влиянии фактора $b$ статистика:\n",
    "$$F_b = \\dfrac{\\sigma_b^2}{\\sigma_w^2}$$\n",
    "\n",
    "Она также имеет распределение Фишера, теперь с параметрами $k_{1b} = k - 1$, $k_{2b} = n - k$."
   ]
  },
  {
   "cell_type": "code",
   "execution_count": 44,
   "metadata": {},
   "outputs": [
    {
     "name": "stdout",
     "output_type": "stream",
     "text": [
      "F_a = [12.18837926], \n",
      "F_b = [1.38678504]\n"
     ]
    }
   ],
   "source": [
    "F_a = sigma2_a / sigma2_w\n",
    "F_b = sigma2_b / sigma2_w\n",
    "print(f'F_a = {F_a}, \\nF_b = {F_b}')"
   ]
  },
  {
   "cell_type": "code",
   "execution_count": 47,
   "metadata": {},
   "outputs": [
    {
     "name": "stdout",
     "output_type": "stream",
     "text": [
      "t_a = 4.25649472909375\n"
     ]
    }
   ],
   "source": [
    "alpha = 0.05\n",
    "\n",
    "k1a = m - 1\n",
    "k2a = m * k - m\n",
    "t_a = stats.f.ppf(1 - alpha, k1a, k2a)\n",
    "print(f't_a = {t_a}')"
   ]
  },
  {
   "cell_type": "markdown",
   "metadata": {},
   "source": [
    "F_a > t_a - Значение статистики не попало в критическую область, значит влияние фактора A на объясняемую переменную является статистически значимым"
   ]
  },
  {
   "cell_type": "code",
   "execution_count": 48,
   "metadata": {},
   "outputs": [
    {
     "name": "stdout",
     "output_type": "stream",
     "text": [
      "t_b = 4.06618055135116\n"
     ]
    }
   ],
   "source": [
    "k1b = k - 1\n",
    "k2b = m * k - k\n",
    "k1b, k2b\n",
    "t_b = stats.f.ppf(1 - alpha, k1b, k2b)\n",
    "print(f't_b = {t_b}')"
   ]
  },
  {
   "cell_type": "markdown",
   "metadata": {},
   "source": [
    "F_b < t_b - Значение статистики попало в критическую область, значит влияние фактора B на объясняемую переменную не очень значимо"
   ]
  },
  {
   "cell_type": "markdown",
   "metadata": {},
   "source": [
    "#### Задача 2\n",
    "\n",
    "Прикрепите ссылку на курсовой проект на github (см. выбор темы в ДЗ к Уроку 6)."
   ]
  },
  {
   "cell_type": "code",
   "execution_count": null,
   "metadata": {},
   "outputs": [],
   "source": [
    "https://github.com/ViktorOtroschenko/Probability-theory/branches"
   ]
  }
 ],
 "metadata": {
  "kernelspec": {
   "display_name": "Python 3",
   "language": "python",
   "name": "python3"
  },
  "language_info": {
   "codemirror_mode": {
    "name": "ipython",
    "version": 3
   },
   "file_extension": ".py",
   "mimetype": "text/x-python",
   "name": "python",
   "nbconvert_exporter": "python",
   "pygments_lexer": "ipython3",
   "version": "3.8.5"
  }
 },
 "nbformat": 4,
 "nbformat_minor": 4
}
