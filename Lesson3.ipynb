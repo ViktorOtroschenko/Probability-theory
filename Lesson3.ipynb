{
 "cells": [
  {
   "cell_type": "markdown",
   "metadata": {},
   "source": [
    "## Описательная статистика. Качественные и количественные характеристики популяции. Графическое представление данных"
   ]
  },
  {
   "cell_type": "markdown",
   "metadata": {},
   "source": [
    "### Задача 1\n",
    "\n",
    "Даны значения зарплат из выборки выпускников:\n",
    "\n",
    "100, 80, 75, 77, 89, 33, 45, 25, 65, 17, 30, 230, 24, 57, 55, 70, 75, 65, 84, 90, 150\n",
    "\n",
    "Используя только встроенные питоновские функции и структуры данных (т.е. без библиотек numpy, pandas и др.) посчитать среднее арифметическое, выборочную дисперсию, среднее квадратичное отклонение для данной выборки.\n",
    "\n",
    "Можно затем посчитать те же значения с использованием библиотек, чтобы проверить себя."
   ]
  },
  {
   "cell_type": "code",
   "execution_count": 37,
   "metadata": {},
   "outputs": [],
   "source": [
    "import numpy as np\n",
    "import pandas as pd\n",
    "import matplotlib.pyplot as plt\n",
    "import warnings\n",
    "warnings.filterwarnings('ignore')"
   ]
  },
  {
   "cell_type": "code",
   "execution_count": 2,
   "metadata": {},
   "outputs": [],
   "source": [
    "salary = [100, 80, 75, 77, 89, 33, 45, 25, 65, 17, 30, 230, 24, 57, 55, 70, 75, 65, 84, 90, 150]"
   ]
  },
  {
   "cell_type": "markdown",
   "metadata": {},
   "source": [
    "#### Cреднее арифметическое"
   ]
  },
  {
   "cell_type": "code",
   "execution_count": 3,
   "metadata": {},
   "outputs": [
    {
     "name": "stdout",
     "output_type": "stream",
     "text": [
      "Среднее арифметическое: 73.14285714285714\n"
     ]
    }
   ],
   "source": [
    "salary_mean = sum(salary) / len(salary)\n",
    "print(f'Среднее арифметическое: {salary_mean}')"
   ]
  },
  {
   "cell_type": "markdown",
   "metadata": {},
   "source": [
    "#### Выборочная дисперсия"
   ]
  },
  {
   "cell_type": "code",
   "execution_count": 13,
   "metadata": {},
   "outputs": [
    {
     "name": "stdout",
     "output_type": "stream",
     "text": [
      "Несмещённая оценка дисперсии: 2241.8285714285716\n",
      "Cмещённая оценка дисперсии: 2135.074829931973\n"
     ]
    }
   ],
   "source": [
    "un_dispersion = sum(pow((i - salary_mean), 2) for i in salary) / (len(salary) - 1)\n",
    "dispersion = sum(pow((i - salary_mean), 2) for i in salary) / len(salary)\n",
    "print(f'Несмещённая оценка дисперсии: {un_dispersion}')\n",
    "print(f'Cмещённая оценка дисперсии: {dispersion}')"
   ]
  },
  {
   "cell_type": "markdown",
   "metadata": {},
   "source": [
    "#### Cреднее квадратичное отклонение "
   ]
  },
  {
   "cell_type": "code",
   "execution_count": 14,
   "metadata": {},
   "outputs": [
    {
     "name": "stdout",
     "output_type": "stream",
     "text": [
      "Несмещённое: 47.34795213553139\n",
      "Cмещённое: 46.20686994302874\n"
     ]
    }
   ],
   "source": [
    "print(f'Несмещённое: {pow(un_dispersion, 0.5)}')\n",
    "print(f'Cмещённое: {pow(dispersion, 0.5)}')"
   ]
  },
  {
   "cell_type": "markdown",
   "metadata": {},
   "source": [
    "### С помощью библиотек"
   ]
  },
  {
   "cell_type": "code",
   "execution_count": 18,
   "metadata": {},
   "outputs": [
    {
     "name": "stdout",
     "output_type": "stream",
     "text": [
      "73.14285714285714\n",
      "2241.8285714285716\n",
      "2135.074829931973\n",
      "47.34795213553139\n",
      "46.20686994302874\n"
     ]
    }
   ],
   "source": [
    "df = pd.DataFrame({'salary': salary})\n",
    "# среднее арифметическое\n",
    "print(df['salary'].mean())\n",
    "# несмещённая оценка дисперсии\n",
    "print(df['salary'].var(ddof=1))\n",
    "# смещённая оценка дисперсии\n",
    "print(df['salary'].var(ddof=0))\n",
    "# среднее квадратичное отклонение (несмещённоe)\n",
    "print(df['salary'].std(ddof=1))\n",
    "# среднее квадратичное отклонение (смещённоe)\n",
    "print(df['salary'].std(ddof=0))"
   ]
  },
  {
   "cell_type": "markdown",
   "metadata": {},
   "source": [
    "### Задача 2\n",
    "\n",
    "Для выборки из задачи 1 найти (также без использования библиотек):\n",
    "1. медиану, первый и третий квартили, интерквартильное расстояние,\n",
    "2. выборсы в выборке (используя для этого метод как при построении \"усов\" из boxplot).\n",
    "\n",
    "Возможные неоднозначности в вычислении квантилей можно разрешать любым способом."
   ]
  },
  {
   "cell_type": "markdown",
   "metadata": {},
   "source": [
    "#### Медиана"
   ]
  },
  {
   "cell_type": "code",
   "execution_count": 22,
   "metadata": {},
   "outputs": [
    {
     "name": "stdout",
     "output_type": "stream",
     "text": [
      "[17, 24, 25, 30, 33, 45, 55, 57, 65, 65, 70, 75, 75, 77, 80, 84, 89, 90, 100, 150, 230]\n"
     ]
    }
   ],
   "source": [
    "sort_salary = sorted(salary)\n",
    "print(sort_salary)"
   ]
  },
  {
   "cell_type": "code",
   "execution_count": 23,
   "metadata": {},
   "outputs": [
    {
     "data": {
      "text/plain": [
       "70"
      ]
     },
     "execution_count": 23,
     "metadata": {},
     "output_type": "execute_result"
    }
   ],
   "source": [
    "median = sort_salary[len(sort_salary) // 2]\n",
    "median"
   ]
  },
  {
   "cell_type": "markdown",
   "metadata": {},
   "source": [
    "#### Первый и Третий квартили"
   ]
  },
  {
   "cell_type": "code",
   "execution_count": 27,
   "metadata": {},
   "outputs": [
    {
     "name": "stdout",
     "output_type": "stream",
     "text": [
      "Первый квартиль: 45\n"
     ]
    }
   ],
   "source": [
    "first_quartile = sort_salary[int(len(salary) / 4)]\n",
    "print(f'Первый квартиль: {first_quartile}')"
   ]
  },
  {
   "cell_type": "code",
   "execution_count": 28,
   "metadata": {},
   "outputs": [
    {
     "name": "stdout",
     "output_type": "stream",
     "text": [
      "Третий квартиль: 84\n"
     ]
    }
   ],
   "source": [
    "third_quartile = sort_salary[int(len(salary) * 3 / 4)]\n",
    "print(f'Третий квартиль: {third_quartile}')"
   ]
  },
  {
   "cell_type": "markdown",
   "metadata": {},
   "source": [
    "#### Интерквартильное расстояние"
   ]
  },
  {
   "cell_type": "code",
   "execution_count": 34,
   "metadata": {},
   "outputs": [
    {
     "name": "stdout",
     "output_type": "stream",
     "text": [
      "Интерквартильное расстояние: (45, 84)\n"
     ]
    }
   ],
   "source": [
    "# Это расстояние от Первого до Третьего квартиля\n",
    "print(f'Интерквартильное расстояние: {first_quartile, third_quartile}')"
   ]
  },
  {
   "cell_type": "markdown",
   "metadata": {},
   "source": [
    "#### Выборсы в выборке"
   ]
  },
  {
   "cell_type": "code",
   "execution_count": 33,
   "metadata": {},
   "outputs": [
    {
     "name": "stdout",
     "output_type": "stream",
     "text": [
      "Выброс с зарплатой = 150\n",
      "Выброс с зарплатой = 230\n"
     ]
    }
   ],
   "source": [
    "IQR = third_quartile - first_quartile\n",
    "for i in sort_salary:\n",
    "    if i < first_quartile - 1.5 * IQR or i > third_quartile + 1.5 * IQR:\n",
    "        print(f'Выброс с зарплатой = {i}')"
   ]
  },
  {
   "cell_type": "markdown",
   "metadata": {},
   "source": [
    "### С помощью библиотек"
   ]
  },
  {
   "cell_type": "code",
   "execution_count": 38,
   "metadata": {},
   "outputs": [
    {
     "name": "stdout",
     "output_type": "stream",
     "text": [
      "0.25    45.0\n",
      "0.50    70.0\n",
      "0.75    84.0\n",
      "Name: salary, dtype: float64\n"
     ]
    }
   ],
   "source": [
    "# Медиана, Первый квартиль, Третий квартиль\n",
    "print(df['salary'].quantile([0.25, 0.5, 0.75]))"
   ]
  },
  {
   "cell_type": "code",
   "execution_count": 39,
   "metadata": {},
   "outputs": [
    {
     "name": "stdout",
     "output_type": "stream",
     "text": [
      "[45. 84.]\n"
     ]
    }
   ],
   "source": [
    "# Интерквартильное расстояние\n",
    "print(np.quantile(salary, [0.25, 0.75]))"
   ]
  },
  {
   "cell_type": "code",
   "execution_count": 48,
   "metadata": {},
   "outputs": [
    {
     "data": {
      "image/png": "[encoded data removed]",
      "text/plain": [
       "<Figure size 432x288 with 1 Axes>"
      ]
     },
     "metadata": {
      "needs_background": "light"
     },
     "output_type": "display_data"
    }
   ],
   "source": [
    "plt.hist(df['salary'], bins = 20)\n",
    "plt.show()"
   ]
  },
  {
   "cell_type": "markdown",
   "metadata": {},
   "source": [
    "### Задача 3\n",
    "\n",
    "В университет на факультет A поступило 100 человек, на факультет B - 90 человек и на факультет C - 45 человек. Вероятность того, что студент с факультета A сдаст первую сессию, равна 0.6. Для студента с факультета B эта вероятность равна 0.7, а для студента с факультета C - 0.8. Случайным образом выбирается студент, сдавший первую сессию. Какое событие наиболее вероятно:\n",
    "1. студент учится на факультете A,\n",
    "2. студент учится на факультете B,\n",
    "3. студент учится на факультете C?"
   ]
  },
  {
   "cell_type": "markdown",
   "metadata": {},
   "source": [
    "Для решения данной задачи воспользуемся Формулой полной вероятности. Формулой Байеса\n",
    "\n",
    "__Формула полной вероятности__ для таких событий и произвольного события $A$:\n",
    "$$P(A) = P(A | H_1) \\cdot P(H_1) + P(A | H_2) \\cdot P(H_2) + \\dots + P(A | H_n) \\cdot P(H_n).$$\n",
    "\n",
    "__Формула Байеса__:\n",
    "$$P(A|B) = \\dfrac{P(B|A) \\cdot P(A)}{P(B)}$$"
   ]
  },
  {
   "cell_type": "code",
   "execution_count": 54,
   "metadata": {},
   "outputs": [],
   "source": [
    "#Количество студентов на факультете\n",
    "facA = 100 / (100 + 90 + 45)\n",
    "facB = 90 / (100 + 90 + 45)\n",
    "facC = 45 / (100 + 90 + 45)\n",
    "\n",
    "#Вероятность того, что студент сдаст первую сессию с определенного факультета\n",
    "P_facA = 0.6\n",
    "P_facB = 0.7\n",
    "P_facC = 0.8"
   ]
  },
  {
   "cell_type": "code",
   "execution_count": 55,
   "metadata": {},
   "outputs": [
    {
     "data": {
      "text/plain": [
       "0.676595744680851"
      ]
     },
     "execution_count": 55,
     "metadata": {},
     "output_type": "execute_result"
    }
   ],
   "source": [
    "#Формула полной вероятности\n",
    "P_A = P_facA * facA + P_facB * facB + P_facC * facC\n",
    "P_A"
   ]
  },
  {
   "cell_type": "code",
   "execution_count": 56,
   "metadata": {},
   "outputs": [],
   "source": [
    "def Bayes(P_fac: float, fac: float, P_A: float):\n",
    "    '''Формула Байеса'''\n",
    "    \n",
    "    return (P_fac * fac) / P_A"
   ]
  },
  {
   "cell_type": "code",
   "execution_count": 59,
   "metadata": {},
   "outputs": [
    {
     "name": "stdout",
     "output_type": "stream",
     "text": [
      "Вероятность того, что студент с факультета А: 0.3773584905660377\n"
     ]
    }
   ],
   "source": [
    "print(f'Вероятность того, что студент с факультета А: {Bayes(P_fac=P_facA, fac=facA, P_A=P_A)}')"
   ]
  },
  {
   "cell_type": "code",
   "execution_count": 60,
   "metadata": {},
   "outputs": [
    {
     "name": "stdout",
     "output_type": "stream",
     "text": [
      "Вероятность того, что студент с факультета B: 0.39622641509433965\n"
     ]
    }
   ],
   "source": [
    "print(f'Вероятность того, что студент с факультета B: {Bayes(P_fac=P_facB, fac=facB, P_A=P_A)}')"
   ]
  },
  {
   "cell_type": "code",
   "execution_count": 61,
   "metadata": {},
   "outputs": [
    {
     "name": "stdout",
     "output_type": "stream",
     "text": [
      "Вероятность того, что студент с факультета C: 0.22641509433962265\n"
     ]
    }
   ],
   "source": [
    "print(f'Вероятность того, что студент с факультета C: {Bayes(P_fac=P_facC, fac=facC, P_A=P_A)}')"
   ]
  },
  {
   "cell_type": "markdown",
   "metadata": {},
   "source": [
    "__Ответ:__ Студент учится на факультете В"
   ]
  }
 ],
 "metadata": {
  "kernelspec": {
   "display_name": "Python 3",
   "language": "python",
   "name": "python3"
  },
  "language_info": {
   "codemirror_mode": {
    "name": "ipython",
    "version": 3
   },
   "file_extension": ".py",
   "mimetype": "text/x-python",
   "name": "python",
   "nbconvert_exporter": "python",
   "pygments_lexer": "ipython3",
   "version": "3.8.3"
  }
 },
 "nbformat": 4,
 "nbformat_minor": 4
}
