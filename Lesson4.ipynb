{
 "cells": [
  {
   "cell_type": "markdown",
   "metadata": {},
   "source": [
    "## Непрерывные случайные величины. Функция распределения и плотность распределения вероятностей. Равномерное и нормальное распределение. Центральная предельная теорема"
   ]
  },
  {
   "cell_type": "markdown",
   "metadata": {},
   "source": [
    "#### Задача 1\n",
    "\n",
    "Коробки с шоколадом упаковываются автоматически. Их средняя масса равна 1.06 кг. Известно, что 5% коробок имеют массу, меньшую 1 кг. Найдите: а) среднее квадратическое отклонение массы коробки, б) процент коробок, имеющих массу больше 1.1 кг.\n",
    "\n",
    "Подсказка. 1. Можно считать, что распределение массы коробки нормальное. 2. Найдите такое значение scale, для которого значение cdf(x=1, loc=1.06, scale=scale) близко к 0.05. Точности 0.0001 будет достаточно."
   ]
  },
  {
   "cell_type": "code",
   "execution_count": 150,
   "metadata": {},
   "outputs": [],
   "source": [
    "import pandas as pd\n",
    "import numpy as np\n",
    "from matplotlib import pyplot as plt\n",
    "from scipy import stats"
   ]
  },
  {
   "cell_type": "markdown",
   "metadata": {},
   "source": [
    "#### а) Среднее квадратическое отклонение массы коробки"
   ]
  },
  {
   "cell_type": "markdown",
   "metadata": {},
   "source": [
    "$$D(X) = \\sigma^2$$"
   ]
  },
  {
   "cell_type": "markdown",
   "metadata": {},
   "source": [
    "Воспользуемся подсказкой из условия"
   ]
  },
  {
   "cell_type": "code",
   "execution_count": 8,
   "metadata": {},
   "outputs": [
    {
     "name": "stdout",
     "output_type": "stream",
     "text": [
      "Среднее квадратическое отклонение массы коробки: 0.036478\n"
     ]
    }
   ],
   "source": [
    "for scale in np.linspace(0.02, 0.05, 10000):\n",
    "    s = stats.norm.cdf(x=1, loc=1.06, scale=scale)\n",
    "    if s > 0.05:\n",
    "        print(f'Среднее квадратическое отклонение массы коробки: {round(scale, 6)}')\n",
    "        break"
   ]
  },
  {
   "cell_type": "markdown",
   "metadata": {},
   "source": [
    "#### б) процент коробок, имеющих массу больше 1.1 кг"
   ]
  },
  {
   "cell_type": "code",
   "execution_count": 9,
   "metadata": {},
   "outputs": [
    {
     "name": "stdout",
     "output_type": "stream",
     "text": [
      "Процент коробок, имеющих массу больше 1.1 кг: 13.64%\n"
     ]
    }
   ],
   "source": [
    "P = 1 - stats.norm.cdf(1.1, loc=1.06, scale=scale)\n",
    "print(f'Процент коробок, имеющих массу больше 1.1 кг: {round(P * 100, 2)}%')"
   ]
  },
  {
   "cell_type": "markdown",
   "metadata": {},
   "source": [
    "#### Задача 2\n",
    "\n",
    "Коробка содержит 30 конфет. Известно, что масса каждой конфеты распределена равномерно в промежутке от 12 до 14 граммов. Используя центральную предельную теорему, найти вероятность, что масса всей коробки будет: а) меньше 390 граммов, б) больше 395 граммов, в) от 380 до 400 граммов.\n",
    "\n",
    "Массой самой коробки можно пренебречь.\n",
    "\n",
    "Подсказка. Для равномерного распределения в промежутке [a, b]:\n",
    "1. мат. ожидание равно (a + b) / 2,\n",
    "2. дисперсия равна (b - a)^2 / 12."
   ]
  },
  {
   "cell_type": "code",
   "execution_count": 13,
   "metadata": {},
   "outputs": [
    {
     "name": "stdout",
     "output_type": "stream",
     "text": [
      "Мат. ожидание: 13.0, Дисперсия: 0.3333333333333333\n"
     ]
    }
   ],
   "source": [
    "candy_min = 12\n",
    "candy_max = 14\n",
    "n = 30\n",
    "M = (candy_min + candy_max) / 2\n",
    "D = (candy_max - candy_min)**2 / 12\n",
    "print(f'Мат. ожидание: {M}, Дисперсия: {D}')"
   ]
  },
  {
   "cell_type": "code",
   "execution_count": 14,
   "metadata": {},
   "outputs": [],
   "source": [
    "loc = n * M\n",
    "sigma = (n * D)**0.5"
   ]
  },
  {
   "cell_type": "markdown",
   "metadata": {},
   "source": [
    "#### а) меньше 390 граммов"
   ]
  },
  {
   "cell_type": "code",
   "execution_count": 19,
   "metadata": {},
   "outputs": [
    {
     "name": "stdout",
     "output_type": "stream",
     "text": [
      "Вероятность, что масса всей коробки будет меньше 390 граммов: 0.5\n"
     ]
    }
   ],
   "source": [
    "box1 = stats.norm.cdf(x=390, loc=loc, scale=sigma)\n",
    "print(f'Вероятность, что масса всей коробки будет меньше 390 граммов: {box1}')"
   ]
  },
  {
   "cell_type": "markdown",
   "metadata": {},
   "source": [
    "#### б) больше 395 граммов"
   ]
  },
  {
   "cell_type": "code",
   "execution_count": 21,
   "metadata": {},
   "outputs": [
    {
     "name": "stdout",
     "output_type": "stream",
     "text": [
      "Вероятность, что масса всей коробки будет меньше 390 граммов: 0.0569\n"
     ]
    }
   ],
   "source": [
    "box2 = 1 - stats.norm.cdf(x=395, loc=loc, scale=sigma)\n",
    "print(f'Вероятность, что масса всей коробки будет меньше 390 граммов: {round(box2, 4)}')"
   ]
  },
  {
   "cell_type": "markdown",
   "metadata": {},
   "source": [
    "#### в) от 380 до 400 граммов"
   ]
  },
  {
   "cell_type": "code",
   "execution_count": 22,
   "metadata": {},
   "outputs": [
    {
     "name": "stdout",
     "output_type": "stream",
     "text": [
      "Вероятность, что масса всей коробки будет меньше 390 граммов: 0.9984\n"
     ]
    }
   ],
   "source": [
    "box3 = stats.norm.cdf(x=400, loc=loc, scale=sigma) - stats.norm.cdf(x=380, loc=loc, scale=sigma)\n",
    "print(f'Вероятность, что масса всей коробки будет меньше 390 граммов: {round(box3, 4)}')"
   ]
  },
  {
   "cell_type": "markdown",
   "metadata": {},
   "source": [
    "#### Задача 3\n",
    "\n",
    "Продемонстрируйте действие центральной предельной теоремы на каком-нибудь распределении на ваш выбор (кроме нормального). Что для этого нужно сделать:\n",
    "1. Выберите несколько значений n (например, 2, 5, 10, 50).\n",
    "2. Для выбранного значения n сгенерируйте 1000 раз выборку размера n из выбранного вами распределения, посчитайте по этой выборке выборочное среднее.\n",
    "3. Изобразите гистограмму из полученных 1000 значений выборочного среднего с аргументом density=True.\n",
    "4. Поверх гистограммы нарисуйте функцию плотности нормального распределения с параметрами из ЦПТ (т.е. mu = M, sigma^2 = D / n, где M - мат. ожидание выбранного вами распределения,  D - его дисперсия).\n",
    "\n",
    "При достаточно большом n гистограмма должна соответствовать построенной функции плотности."
   ]
  },
  {
   "cell_type": "code",
   "execution_count": 172,
   "metadata": {},
   "outputs": [],
   "source": [
    "n = [4, 15, 40]"
   ]
  },
  {
   "cell_type": "code",
   "execution_count": 173,
   "metadata": {},
   "outputs": [],
   "source": [
    "# Сформируем наши выборки и посчитаем выборочное среднее\n",
    "samples = []\n",
    "df = 55"
   ]
  },
  {
   "cell_type": "code",
   "execution_count": 174,
   "metadata": {},
   "outputs": [],
   "source": [
    "for i in n:\n",
    "    for _ in range(1000):\n",
    "        sample = chi2.rvs(df, size=i)\n",
    "        samples.append(sample.mean())"
   ]
  },
  {
   "cell_type": "code",
   "execution_count": 175,
   "metadata": {},
   "outputs": [
    {
     "data": {
      "text/plain": [
       "3000"
      ]
     },
     "execution_count": 175,
     "metadata": {},
     "output_type": "execute_result"
    }
   ],
   "source": [
    "len(samples)"
   ]
  },
  {
   "cell_type": "code",
   "execution_count": 179,
   "metadata": {},
   "outputs": [],
   "source": [
    "steps = np.arange(35.,70.,0.5)"
   ]
  },
  {
   "cell_type": "code",
   "execution_count": 177,
   "metadata": {},
   "outputs": [],
   "source": [
    "M = np.mean(samples)\n",
    "D = np.std(samples)"
   ]
  },
  {
   "cell_type": "code",
   "execution_count": 180,
   "metadata": {},
   "outputs": [
    {
     "data": {
      "image/png": "[encoded data removed]",
      "text/plain": [
       "<Figure size 432x288 with 1 Axes>"
      ]
     },
     "metadata": {
      "needs_background": "light"
     },
     "output_type": "display_data"
    }
   ],
   "source": [
    "# Построим гистограмму и нарисуем функцию плотности для выборки - 5\n",
    "mu = M\n",
    "sigma = (D / n[0])**0.5\n",
    "ox = steps\n",
    "oy = np.array(stats.norm(loc = M, scale = D).pdf(ox))\n",
    "plt.hist(samples[0:1000], bins = 15, density = True)\n",
    "plt.plot(ox, oy, linestyle = 'dashed')\n",
    "plt.show()"
   ]
  },
  {
   "cell_type": "code",
   "execution_count": 183,
   "metadata": {},
   "outputs": [
    {
     "data": {
      "image/png": "[encoded data removed]",
      "text/plain": [
       "<Figure size 432x288 with 1 Axes>"
      ]
     },
     "metadata": {
      "needs_background": "light"
     },
     "output_type": "display_data"
    }
   ],
   "source": [
    "# Построим гистограмму и нарисуем функцию плотности для выборки - 10\n",
    "mu = M\n",
    "sigma = (D / n[1])**0.5\n",
    "ox = steps\n",
    "oy = np.array(stats.norm(loc = M, scale = D).pdf(ox))\n",
    "plt.hist(samples[1000:2000], bins = 15, density = True)\n",
    "plt.plot(ox, oy, linestyle = 'dashed')\n",
    "plt.show()"
   ]
  },
  {
   "cell_type": "code",
   "execution_count": 184,
   "metadata": {},
   "outputs": [
    {
     "data": {
      "image/png": "[encoded data removed]",
      "text/plain": [
       "<Figure size 432x288 with 1 Axes>"
      ]
     },
     "metadata": {
      "needs_background": "light"
     },
     "output_type": "display_data"
    }
   ],
   "source": [
    "# Построим гистограмму и нарисуем функцию плотности для выборки - 50\n",
    "mu = M\n",
    "sigma = (D / n[2])**0.5\n",
    "ox = steps\n",
    "oy = np.array(stats.norm(loc = M, scale = D).pdf(ox))\n",
    "plt.hist(samples[2000:3000], bins = 15, density = True)\n",
    "plt.plot(ox, oy, linestyle = 'dashed')\n",
    "plt.show()"
   ]
  },
  {
   "cell_type": "code",
   "execution_count": null,
   "metadata": {},
   "outputs": [],
   "source": []
  }
 ],
 "metadata": {
  "kernelspec": {
   "display_name": "Python 3",
   "language": "python",
   "name": "python3"
  },
  "language_info": {
   "codemirror_mode": {
    "name": "ipython",
    "version": 3
   },
   "file_extension": ".py",
   "mimetype": "text/x-python",
   "name": "python",
   "nbconvert_exporter": "python",
   "pygments_lexer": "ipython3",
   "version": "3.8.5"
  }
 },
 "nbformat": 4,
 "nbformat_minor": 4
}
